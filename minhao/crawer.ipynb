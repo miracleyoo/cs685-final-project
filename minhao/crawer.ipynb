{
 "cells": [
  {
   "cell_type": "code",
   "execution_count": 2,
   "metadata": {},
   "outputs": [],
   "source": [
    "import urllib\n",
    "from urllib import request\n",
    "from bs4 import BeautifulSoup\n",
    "import os\n",
    "import requests\n",
    "import argparse\n",
    "import re\n",
    "import time\n",
    "import json\n",
    "import math\n",
    "\n",
    "import codecs\n",
    "import urllib.parse as up"
   ]
  },
  {
   "cell_type": "markdown",
   "metadata": {},
   "source": [
    "# Crawler and Semantic Scholar Information Extractor"
   ]
  },
  {
   "cell_type": "code",
   "execution_count": 3,
   "metadata": {},
   "outputs": [],
   "source": [
    "# Generate a concatenated tldr string of papers from a certain query. Also return the information pack of these papers.\n",
    "def SSSQuery(query, num_item=50, offset=0, fos=None):\n",
    "    # Send a Semantic API post to get the result paper list\n",
    "    query = '+'.join(query.split())\n",
    "    url = f'https://api.semanticscholar.org/graph/v1/paper/search?query={query}&offset={offset}&limit={num_item}&fields=fieldsOfStudy,abstract'\n",
    "    paper_list = str(request.urlopen(url).read(), 'utf-8')\n",
    "    paper_list = json.loads(paper_list)\n",
    "\n",
    "    tldr_cat = ''\n",
    "    info_pack = []\n",
    "    # Loop through the paper list and get information pack for each paper\n",
    "    for paper in paper_list['data']:\n",
    "        paper_id = paper['paperId']\n",
    "        # Each paper info pack consists title, abstract, authors, tldr, citation count, field of study\n",
    "        paper_url = f'https://api.semanticscholar.org/graph/v1/paper/{paper_id}?fields=title,abstract,citations.authors,tldr,citationCount,fieldsOfStudy'\n",
    "        paper_info = str(request.urlopen(paper_url).read(), 'utf-8')\n",
    "        paper_info = json.loads(paper_info)\n",
    "        # Filter out the papers out of field of study\n",
    "        if fos is not None and fos not in paper_info['fieldsOfStudy']:\n",
    "            continue\n",
    "        info_pack.append(paper_info)\n",
    "        tldr = paper_info['tldr']\n",
    "        if tldr is not None:\n",
    "            tldr_cat += ' '+tldr['text'].strip()\n",
    "    tldr_cat = tldr_cat.strip()\n",
    "    return tldr_cat, info_pack"
   ]
  },
  {
   "cell_type": "code",
   "execution_count": 4,
   "metadata": {},
   "outputs": [
    {
     "name": "stdout",
     "output_type": "stream",
     "text": [
      "['Spatial Transformer Networks', 'Exploring the Limits of Transfer Learning with a Unified Text-to-Text Transformer', 'Transformer-XL: Attentive Language Models beyond a Fixed-Length Context', 'Longformer: The Long-Document Transformer', 'Reformer: The Efficient Transformer', 'Conformer: Convolution-augmented Transformer for Speech Recognition', 'Heterogeneous Graph Transformer', 'AraBERT: Transformer-based Model for Arabic Language Understanding', 'Reducing Transformer Depth on Demand with Structured Dropout', 'Meshed-Memory Transformer for Image Captioning']\n"
     ]
    }
   ],
   "source": [
    "tldr_cat, info_pack = SSSQuery('transformer', num_item=10, fos='Computer Science')\n",
    "print([i['title'] for i in info_pack])"
   ]
  },
  {
   "cell_type": "code",
   "execution_count": 5,
   "metadata": {},
   "outputs": [
    {
     "data": {
      "text/plain": [
       "'This work introduces a new learnable module, the Spatial Transformer, which explicitly allows the spatial manipulation of data within the network, and can be inserted into existing convolutional architectures, giving neural networks the ability to actively spatially transform feature maps. This systematic study compares pre-training objectives, architectures, unlabeled datasets, transfer approaches, and other factors on dozens of language understanding tasks and achieves state-of-the-art results on many benchmarks covering summarization, question answering, text classification, and more. This work proposes a novel neural architecture Transformer-XL that enables learning dependency beyond a fixed length without disrupting temporal coherence, which consists of a segment-level recurrence mechanism and a novel positional encoding scheme. Following prior work on long-sequence transformers, the Longformer is evaluated on character-level language modeling and achieves state-of-the-art results on text8 and enwik8 and pretrain Longformer and finetune it on a variety of downstream tasks. This work replaces dot-product attention by one that uses locality-sensitive hashing and uses reversible residual layers instead of the standard residuals, which allows storing activations only once in the training process instead of several times, making the model much more memory-efficient and much faster on long sequences. This work proposes the convolution-augmented transformer for speech recognition, named Conformer, which significantly outperforms the previous Transformer and CNN based models achieving state-of-the-art accuracies. The proposed HGT model consistently outperforms all the state-of-the-art GNN baselines by 9–21 on various downstream tasks, and the heterogeneous mini-batch graph sampling algorithm—HGSampling—for efficient and scalable training. This paper pre-trained BERT specifically for the Arabic language in the pursuit of achieving the same success that BERT did for the English language, and showed that the newly developed AraBERT achieved state-of-the-art performance on most tested Arabic NLP tasks. LayerDrop, a form of structured dropout, is explored, which has a regularization effect during training and allows for efficient pruning at inference time, and shows that it is possible to select sub-networks of any depth from one large network without having to finetune them and with limited impact on performance. The architecture improves both the image encoding and the language generation steps: it learns a multi-level representation of the relationships between image regions integrating learned a priori knowledge, and uses a mesh-like connectivity at decoding stage to exploit low- and high-level features.'"
      ]
     },
     "execution_count": 5,
     "metadata": {},
     "output_type": "execute_result"
    }
   ],
   "source": [
    "tldr_cat"
   ]
  },
  {
   "cell_type": "markdown",
   "metadata": {},
   "source": [
    "# Keywords Extraction"
   ]
  },
  {
   "cell_type": "code",
   "execution_count": 6,
   "metadata": {},
   "outputs": [
    {
     "name": "stdout",
     "output_type": "stream",
     "text": [
      "('Spatial', 0.03213113441634914)\n",
      "('work', 0.04798022059872212)\n",
      "('language', 0.06973861700167353)\n",
      "('Transformer', 0.07994217878795795)\n",
      "('tasks', 0.08425923835568348)\n",
      "('architectures', 0.12034394262796394)\n",
      "('Longformer', 0.1231255301810972)\n",
      "('neural', 0.13795581464104506)\n",
      "('training', 0.13840506098154778)\n",
      "('module', 0.14654904914113015)\n",
      "('giving', 0.14654904914113015)\n",
      "('maps', 0.14654904914113015)\n",
      "('achieves', 0.1514314025909243)\n",
      "('results', 0.1514314025909243)\n",
      "('introduces', 0.15751851687783422)\n",
      "('learnable', 0.15751851687783422)\n",
      "('explicitly', 0.15751851687783422)\n",
      "('manipulation', 0.15751851687783422)\n",
      "('data', 0.15751851687783422)\n",
      "('inserted', 0.15751851687783422)\n"
     ]
    }
   ],
   "source": [
    "language = \"en\"\n",
    "max_ngram_size = 1\n",
    "deduplication_thresold = 0.9\n",
    "deduplication_algo = 'seqm'\n",
    "windowSize = 1\n",
    "numOfKeywords = 20\n",
    "\n",
    "custom_kw_extractor = yake.KeywordExtractor(lan=language, n=max_ngram_size, dedupLim=deduplication_thresold, dedupFunc=deduplication_algo, windowsSize=windowSize, top=numOfKeywords, features=None)\n",
    "keywords = custom_kw_extractor.extract_keywords(tldr_cat)\n",
    "keywords = sorted(keywords, key=lambda x:x[1])\n",
    "for kw in keywords:\n",
    "    print(kw)"
   ]
  },
  {
   "cell_type": "code",
   "execution_count": 8,
   "metadata": {},
   "outputs": [
    {
     "name": "stdout",
     "output_type": "stream",
     "text": [
      "Collecting transformers==3.4.0\n",
      "  Downloading transformers-3.4.0-py3-none-any.whl (1.3 MB)\n",
      "Requirement already satisfied: dataclasses; python_version < \"3.7\" in d:\\users\\minha\\anaconda3\\envs\\cs682\\lib\\site-packages (from transformers==3.4.0) (0.8)\n",
      "Requirement already satisfied: packaging in d:\\users\\minha\\anaconda3\\envs\\cs682\\lib\\site-packages (from transformers==3.4.0) (21.3)\n",
      "Requirement already satisfied: sentencepiece!=0.1.92 in d:\\users\\minha\\anaconda3\\envs\\cs682\\lib\\site-packages (from transformers==3.4.0) (0.1.96)\n",
      "Requirement already satisfied: sacremoses in d:\\users\\minha\\anaconda3\\envs\\cs682\\lib\\site-packages (from transformers==3.4.0) (0.0.46)\n",
      "Requirement already satisfied: filelock in d:\\users\\minha\\anaconda3\\envs\\cs682\\lib\\site-packages (from transformers==3.4.0) (3.4.0)\n",
      "Requirement already satisfied: requests in d:\\users\\minha\\anaconda3\\envs\\cs682\\lib\\site-packages (from transformers==3.4.0) (2.24.0)\n",
      "Requirement already satisfied: protobuf in d:\\users\\minha\\anaconda3\\envs\\cs682\\lib\\site-packages (from transformers==3.4.0) (3.13.0)\n",
      "Requirement already satisfied: numpy in d:\\users\\minha\\anaconda3\\envs\\cs682\\lib\\site-packages (from transformers==3.4.0) (1.19.5)\n",
      "Requirement already satisfied: tqdm>=4.27 in d:\\users\\minha\\anaconda3\\envs\\cs682\\lib\\site-packages (from transformers==3.4.0) (4.62.3)\n",
      "Collecting tokenizers==0.9.2\n",
      "  Downloading tokenizers-0.9.2-cp36-cp36m-win_amd64.whl (1.9 MB)\n",
      "Requirement already satisfied: regex!=2019.12.17 in d:\\users\\minha\\anaconda3\\envs\\cs682\\lib\\site-packages (from transformers==3.4.0) (2021.11.10)\n",
      "Requirement already satisfied: pyparsing!=3.0.5,>=2.0.2 in d:\\users\\minha\\anaconda3\\envs\\cs682\\lib\\site-packages (from packaging->transformers==3.4.0) (2.4.7)\n",
      "Requirement already satisfied: joblib in d:\\users\\minha\\anaconda3\\envs\\cs682\\lib\\site-packages (from sacremoses->transformers==3.4.0) (1.1.0)\n",
      "Requirement already satisfied: six in d:\\users\\minha\\anaconda3\\envs\\cs682\\lib\\site-packages (from sacremoses->transformers==3.4.0) (1.15.0)\n",
      "Requirement already satisfied: click in d:\\users\\minha\\anaconda3\\envs\\cs682\\lib\\site-packages (from sacremoses->transformers==3.4.0) (7.1.2)\n",
      "Requirement already satisfied: certifi>=2017.4.17 in d:\\users\\minha\\anaconda3\\envs\\cs682\\lib\\site-packages (from requests->transformers==3.4.0) (2020.6.20)\n",
      "Requirement already satisfied: idna<3,>=2.5 in d:\\users\\minha\\anaconda3\\envs\\cs682\\lib\\site-packages (from requests->transformers==3.4.0) (2.10)\n",
      "Requirement already satisfied: chardet<4,>=3.0.2 in d:\\users\\minha\\anaconda3\\envs\\cs682\\lib\\site-packages (from requests->transformers==3.4.0) (3.0.4)\n",
      "Requirement already satisfied: urllib3!=1.25.0,!=1.25.1,<1.26,>=1.21.1 in d:\\users\\minha\\anaconda3\\envs\\cs682\\lib\\site-packages (from requests->transformers==3.4.0) (1.25.10)\n",
      "Requirement already satisfied: setuptools in d:\\users\\minha\\anaconda3\\envs\\cs682\\lib\\site-packages (from protobuf->transformers==3.4.0) (49.6.0.post20200814)\n",
      "Requirement already satisfied: colorama; platform_system == \"Windows\" in d:\\users\\minha\\anaconda3\\envs\\cs682\\lib\\site-packages (from tqdm>=4.27->transformers==3.4.0) (0.4.3)\n",
      "Installing collected packages: tokenizers, transformers\n",
      "  Attempting uninstall: tokenizers\n",
      "    Found existing installation: tokenizers 0.10.3\n",
      "    Uninstalling tokenizers-0.10.3:\n",
      "      Successfully uninstalled tokenizers-0.10.3\n",
      "  Attempting uninstall: transformers\n",
      "    Found existing installation: transformers 4.12.5\n",
      "    Uninstalling transformers-4.12.5:\n",
      "      Successfully uninstalled transformers-4.12.5\n",
      "Successfully installed tokenizers-0.9.2 transformers-3.4.0\n"
     ]
    },
    {
     "name": "stderr",
     "output_type": "stream",
     "text": [
      "ERROR: After October 2020 you may experience errors when installing or updating packages. This is because pip will change the way that it resolves dependency conflicts.\n",
      "\n",
      "We recommend you use --use-feature=2020-resolver to test your packages with the new resolver before it becomes the default.\n",
      "\n",
      "sentence-transformers 2.1.0 requires tokenizers>=0.10.3, but you'll have tokenizers 0.9.2 which is incompatible.\n",
      "sentence-transformers 2.1.0 requires transformers<5.0.0,>=4.6.0, but you'll have transformers 3.4.0 which is incompatible.\n",
      "flair 0.7 requires sentencepiece<=0.1.91, but you'll have sentencepiece 0.1.96 which is incompatible.\n",
      "flair 0.7 requires transformers<=3.5.1,>=3.5.0, but you'll have transformers 3.4.0 which is incompatible.\n"
     ]
    }
   ],
   "source": [
    "!pip install transformers==3.4.0"
   ]
  },
  {
   "cell_type": "code",
   "execution_count": 9,
   "metadata": {},
   "outputs": [
    {
     "name": "stdout",
     "output_type": "stream",
     "text": [
      "Collecting googletrans==3.1.0a0\n",
      "  Downloading googletrans-3.1.0a0.tar.gz (19 kB)\n",
      "Collecting httpx==0.13.3\n",
      "  Downloading httpx-0.13.3-py3-none-any.whl (55 kB)\n",
      "Collecting httpcore==0.9.*\n",
      "  Downloading httpcore-0.9.1-py3-none-any.whl (42 kB)\n",
      "Collecting hstspreload\n",
      "  Downloading hstspreload-2021.11.1-py3-none-any.whl (1.3 MB)\n",
      "Requirement already satisfied: certifi in d:\\users\\minha\\anaconda3\\envs\\cs682\\lib\\site-packages (from httpx==0.13.3->googletrans==3.1.0a0) (2020.6.20)\n",
      "Requirement already satisfied: chardet==3.* in d:\\users\\minha\\anaconda3\\envs\\cs682\\lib\\site-packages (from httpx==0.13.3->googletrans==3.1.0a0) (3.0.4)\n",
      "Requirement already satisfied: idna==2.* in d:\\users\\minha\\anaconda3\\envs\\cs682\\lib\\site-packages (from httpx==0.13.3->googletrans==3.1.0a0) (2.10)\n",
      "Collecting rfc3986<2,>=1.3\n",
      "  Downloading rfc3986-1.5.0-py2.py3-none-any.whl (31 kB)\n",
      "Collecting sniffio\n",
      "  Downloading sniffio-1.2.0-py3-none-any.whl (10 kB)\n",
      "Collecting h2==3.*\n",
      "  Downloading h2-3.2.0-py2.py3-none-any.whl (65 kB)\n",
      "Collecting h11<0.10,>=0.8\n",
      "  Downloading h11-0.9.0-py2.py3-none-any.whl (53 kB)\n",
      "Collecting contextvars>=2.1; python_version < \"3.7\"\n",
      "  Downloading contextvars-2.4.tar.gz (9.6 kB)\n",
      "Collecting hpack<4,>=3.0\n",
      "  Downloading hpack-3.0.0-py2.py3-none-any.whl (38 kB)\n",
      "Collecting hyperframe<6,>=5.2.0\n",
      "  Downloading hyperframe-5.2.0-py2.py3-none-any.whl (12 kB)\n",
      "Collecting immutables>=0.9\n",
      "  Downloading immutables-0.16-cp36-cp36m-win_amd64.whl (59 kB)\n",
      "Requirement already satisfied: typing-extensions>=3.7.4.3; python_version < \"3.8\" in d:\\users\\minha\\anaconda3\\envs\\cs682\\lib\\site-packages (from immutables>=0.9->contextvars>=2.1; python_version < \"3.7\"->sniffio->httpx==0.13.3->googletrans==3.1.0a0) (3.7.4.3)\n",
      "Building wheels for collected packages: googletrans, contextvars\n",
      "  Building wheel for googletrans (setup.py): started\n",
      "  Building wheel for googletrans (setup.py): finished with status 'done'\n",
      "  Created wheel for googletrans: filename=googletrans-3.1.0a0-py3-none-any.whl size=16378 sha256=8f4674fbb2ff2330cfd0f3f712c9fbc3c1a2a456af2b81b32691b457dcf47c07\n",
      "  Stored in directory: c:\\users\\minha\\appdata\\local\\pip\\cache\\wheels\\26\\36\\33\\1ead496ea4484c4df14c9d148c9e2676a1a2d821bc88d4f453\n",
      "  Building wheel for contextvars (setup.py): started\n",
      "  Building wheel for contextvars (setup.py): finished with status 'done'\n",
      "  Created wheel for contextvars: filename=contextvars-2.4-py3-none-any.whl size=7669 sha256=b2a2d93abe5e6689dbaf5986aade223becdd5f970a8084efc26af3e07f21c5e2\n",
      "  Stored in directory: c:\\users\\minha\\appdata\\local\\pip\\cache\\wheels\\41\\11\\53\\911724983aa48deb94792432e14e518447212dd6c5477d49d3\n",
      "Successfully built googletrans contextvars\n",
      "Installing collected packages: hpack, hyperframe, h2, h11, immutables, contextvars, sniffio, httpcore, hstspreload, rfc3986, httpx, googletrans\n",
      "Successfully installed contextvars-2.4 googletrans-3.1.0a0 h11-0.9.0 h2-3.2.0 hpack-3.0.0 hstspreload-2021.11.1 httpcore-0.9.1 httpx-0.13.3 hyperframe-5.2.0 immutables-0.16 rfc3986-1.5.0 sniffio-1.2.0\n"
     ]
    }
   ],
   "source": [
    "!pip install googletrans==3.1.0a0"
   ]
  },
  {
   "cell_type": "code",
   "execution_count": 15,
   "metadata": {},
   "outputs": [
    {
     "name": "stdout",
     "output_type": "stream",
     "text": [
      "Collecting celery==4.4.2\n",
      "  Downloading celery-4.4.2-py2.py3-none-any.whl (422 kB)\n",
      "Collecting billiard<4.0,>=3.6.3.0\n",
      "  Downloading billiard-3.6.4.0-py3-none-any.whl (89 kB)\n",
      "Collecting pytz>dev\n",
      "  Downloading pytz-2021.3-py2.py3-none-any.whl (503 kB)\n",
      "Collecting vine==1.3.0\n",
      "  Downloading vine-1.3.0-py2.py3-none-any.whl (14 kB)\n",
      "Collecting kombu<4.7,>=4.6.8\n",
      "  Downloading kombu-4.6.11-py2.py3-none-any.whl (184 kB)\n",
      "Collecting amqp<2.7,>=2.6.0\n",
      "  Downloading amqp-2.6.1-py2.py3-none-any.whl (48 kB)\n",
      "Requirement already satisfied: importlib-metadata>=0.18; python_version < \"3.8\" in d:\\users\\minha\\anaconda3\\envs\\cs682\\lib\\site-packages (from kombu<4.7,>=4.6.8->celery==4.4.2) (1.7.0)\n",
      "Requirement already satisfied: zipp>=0.5 in d:\\users\\minha\\anaconda3\\envs\\cs682\\lib\\site-packages (from importlib-metadata>=0.18; python_version < \"3.8\"->kombu<4.7,>=4.6.8->celery==4.4.2) (3.1.0)\n",
      "Installing collected packages: billiard, pytz, vine, amqp, kombu, celery\n",
      "Successfully installed amqp-2.6.1 billiard-3.6.4.0 celery-4.4.2 kombu-4.6.11 pytz-2021.3 vine-1.3.0\n",
      "Note: you may need to restart the kernel to use updated packages.\n"
     ]
    }
   ],
   "source": [
    "pip install celery==4.4.2\n"
   ]
  },
  {
   "cell_type": "code",
   "execution_count": 12,
   "metadata": {},
   "outputs": [
    {
     "name": "stdout",
     "output_type": "stream",
     "text": [
      "Collecting seqeval\n",
      "  Downloading seqeval-1.2.2.tar.gz (43 kB)\n",
      "Note: you may need to restart the kernel to use updated packages.\n",
      "Requirement already satisfied: numpy>=1.14.0 in d:\\users\\minha\\anaconda3\\envs\\cs682\\lib\\site-packages (from seqeval) (1.19.5)\n",
      "Requirement already satisfied: scikit-learn>=0.21.3 in d:\\users\\minha\\anaconda3\\envs\\cs682\\lib\\site-packages (from seqeval) (0.24.2)\n",
      "Requirement already satisfied: threadpoolctl>=2.0.0 in d:\\users\\minha\\anaconda3\\envs\\cs682\\lib\\site-packages (from scikit-learn>=0.21.3->seqeval) (3.0.0)\n",
      "Requirement already satisfied: joblib>=0.11 in d:\\users\\minha\\anaconda3\\envs\\cs682\\lib\\site-packages (from scikit-learn>=0.21.3->seqeval) (1.1.0)\n",
      "Requirement already satisfied: scipy>=0.19.1 in d:\\users\\minha\\anaconda3\\envs\\cs682\\lib\\site-packages (from scikit-learn>=0.21.3->seqeval) (1.1.0)\n",
      "Building wheels for collected packages: seqeval\n",
      "  Building wheel for seqeval (setup.py): started\n",
      "  Building wheel for seqeval (setup.py): finished with status 'done'\n",
      "  Created wheel for seqeval: filename=seqeval-1.2.2-py3-none-any.whl size=16175 sha256=fdc9b5b4982ca8a2e5f11506fd1729be7df2837efc779ee1cbc9a4b236a857dc\n",
      "  Stored in directory: c:\\users\\minha\\appdata\\local\\pip\\cache\\wheels\\39\\29\\36\\1c4f7905c133e11748ca375960154964082d4fb03478323089\n",
      "Successfully built seqeval\n",
      "Installing collected packages: seqeval\n",
      "Successfully installed seqeval-1.2.2\n"
     ]
    }
   ],
   "source": [
    "pip install seqeval\n"
   ]
  },
  {
   "cell_type": "code",
   "execution_count": 10,
   "metadata": {},
   "outputs": [
    {
     "name": "stdout",
     "output_type": "stream",
     "text": [
      "Collecting conllu\n",
      "  Downloading conllu-4.4.1-py2.py3-none-any.whl (15 kB)\n",
      "Installing collected packages: conllu\n",
      "Successfully installed conllu-4.4.1\n",
      "Note: you may need to restart the kernel to use updated packages.\n"
     ]
    }
   ],
   "source": [
    "pip install conllu"
   ]
  },
  {
   "cell_type": "code",
   "execution_count": 1,
   "metadata": {},
   "outputs": [
    {
     "name": "stdout",
     "output_type": "stream",
     "text": [
      "Original:  The goal of the tutorial is to provide an introduction to variational methods for approximate inference, particularly mean field approximation and belief propagation, and a summary comparison of the two procedures, along with some intuition about which approach is appropriate when.\n",
      "Token IDs: tensor([  101,  1996,  3125,  1997,  1996, 14924,  4818,  2003,  2000,  3073,\n",
      "         2019,  4955,  2000,  8386,  2389,  4725,  2005, 15796, 28937,  1010,\n",
      "         3391,  2812,  2492, 20167,  1998,  6772, 20594,  1010,  1998,  1037,\n",
      "        12654,  7831,  1997,  1996,  2048,  8853,  1010,  2247,  2007,  2070,\n",
      "        26406,  2055,  2029,  3921,  2003,  6413,  2043,  1012,   102,     0,\n",
      "            0,     0,     0,     0,     0,     0,     0,     0,     0,     0,\n",
      "            0,     0,     0,     0])\n"
     ]
    }
   ],
   "source": [
    "from helpers import tokenize_and_format, flat_accuracy\n",
    "import torch\n",
    "import pandas as pd\n",
    "\n",
    "df = pd.read_csv('transformer_citation_top5.csv')\n",
    "# df = pd.read_csv('tweets.csv')\n",
    "\n",
    "df = df.sample(frac=1).reset_index(drop=True)\n",
    "\n",
    "texts = df.text.values\n",
    "labels = df.citationCount.values\n",
    "\n",
    "# labels =np.log(labels)/np.log(labels.max())\n",
    "\n",
    "# print(labels)\n",
    "### tokenize_and_format() is a helper function provided in helpers.py ###\n",
    "input_ids, attention_masks = tokenize_and_format(texts)\n",
    "\n",
    "# Convert the lists into tensors.\n",
    "input_ids = torch.cat(input_ids, dim=0)\n",
    "attention_masks = torch.cat(attention_masks, dim=0)\n",
    "labels = torch.FloatTensor(labels)\n",
    "# Print sentence 0, now as a list of IDs.\n",
    "print('Original: ', texts[0])\n",
    "print('Token IDs:', input_ids[0])"
   ]
  },
  {
   "cell_type": "code",
   "execution_count": 2,
   "metadata": {},
   "outputs": [],
   "source": [
    "\n",
    "total = len(df)\n",
    "\n",
    "num_train = int(total * .6)\n",
    "num_val = int(total * .2)\n",
    "num_test = total - num_train - num_val\n",
    "\n",
    "# make lists of 3-tuples (already shuffled the dataframe in cell above)\n",
    "\n",
    "train_set = [(input_ids[i], attention_masks[i], labels[i]) for i in range(num_train)]\n",
    "val_set = [(input_ids[i], attention_masks[i], labels[i]) for i in range(num_train, num_val+num_train)]\n",
    "test_set = [(input_ids[i], attention_masks[i], labels[i]) for i in range(num_val + num_train, total)]\n",
    "\n",
    "train_text = [texts[i] for i in range(num_train)]\n",
    "val_text = [texts[i] for i in range(num_train, num_val+num_train)]\n",
    "test_text = [texts[i] for i in range(num_val + num_train, total)]"
   ]
  },
  {
   "cell_type": "code",
   "execution_count": null,
   "metadata": {},
   "outputs": [],
   "source": []
  },
  {
   "cell_type": "code",
   "execution_count": 3,
   "metadata": {},
   "outputs": [
    {
     "name": "stderr",
     "output_type": "stream",
     "text": [
      "Some weights of the model checkpoint at bert-base-uncased were not used when initializing BertForSequenceClassification: ['cls.predictions.bias', 'cls.predictions.transform.dense.weight', 'cls.predictions.transform.dense.bias', 'cls.predictions.decoder.weight', 'cls.seq_relationship.weight', 'cls.seq_relationship.bias', 'cls.predictions.transform.LayerNorm.weight', 'cls.predictions.transform.LayerNorm.bias']\n",
      "- This IS expected if you are initializing BertForSequenceClassification from the checkpoint of a model trained on another task or with another architecture (e.g. initializing a BertForSequenceClassification model from a BertForPretraining model).\n",
      "- This IS NOT expected if you are initializing BertForSequenceClassification from the checkpoint of a model that you expect to be exactly identical (initializing a BertForSequenceClassification model from a BertForSequenceClassification model).\n",
      "Some weights of BertForSequenceClassification were not initialized from the model checkpoint at bert-base-uncased and are newly initialized: ['classifier.weight', 'classifier.bias']\n",
      "You should probably TRAIN this model on a down-stream task to be able to use it for predictions and inference.\n"
     ]
    }
   ],
   "source": [
    "from transformers import BertForSequenceClassification, AdamW, BertConfig\n",
    "\n",
    "model = BertForSequenceClassification.from_pretrained(\n",
    "    \"bert-base-uncased\", # Use the 12-layer BERT model, with an uncased vocab.\n",
    "    num_labels = 1, # The number of output labels.   \n",
    "    output_attentions = False, # Whether the model returns attentions weights.\n",
    "    output_hidden_states = False, # Whether the model returns all hidden-states.\n",
    ")\n",
    "\n",
    "# Tell pytorch to run this model on the GPU.\n",
    "device = torch.device(\"cpu\")"
   ]
  },
  {
   "cell_type": "code",
   "execution_count": 4,
   "metadata": {},
   "outputs": [],
   "source": [
    "batch_size = 64\n",
    "optimizer = AdamW(model.parameters(),\n",
    "                  lr = 1e-4, # args.learning_rate - default is 5e-5\n",
    "                  eps = 1e-8, # args.adam_epsilon  - default is 1e-8\n",
    "                  weight_decay = 0.01\n",
    "                )\n",
    "epochs = 50\n",
    "\n",
    "\n",
    "\n"
   ]
  },
  {
   "cell_type": "code",
   "execution_count": 5,
   "metadata": {},
   "outputs": [],
   "source": [
    "import numpy as np\n",
    "# function to get validation accuracy\n",
    "def get_validation_performance(val_set):\n",
    "    # Put the model in evaluation mode\n",
    "    model.eval()\n",
    "\n",
    "    # Tracking variables \n",
    "    total_eval_accuracy = 0\n",
    "    total_eval_loss = 0\n",
    "\n",
    "    num_batches = int(len(val_set)/batch_size) + 1\n",
    "\n",
    "    for i in range(num_batches):\n",
    "      end_index = min(batch_size * (i+1), len(val_set))\n",
    "\n",
    "      batch = val_set[i*batch_size:end_index]\n",
    "\n",
    "      input_id_tensors = torch.stack([data[0] for data in batch])\n",
    "      input_mask_tensors = torch.stack([data[1] for data in batch])\n",
    "      label_tensors = torch.stack([data[2] for data in batch])\n",
    "      \n",
    "      # Move tensors to the GPU\n",
    "      b_input_ids = input_id_tensors.to(device)\n",
    "      b_input_mask = input_mask_tensors.to(device)\n",
    "      b_labels = label_tensors.to(device)\n",
    "        \n",
    "      # Tell pytorch not to bother with constructing the compute graph during\n",
    "      # the forward pass, since this is only needed for backprop (training).\n",
    "      with torch.no_grad():        \n",
    "\n",
    "        # Forward pass, calculate logit predictions.\n",
    "        outputs = model(b_input_ids, \n",
    "                                token_type_ids=None, \n",
    "                                attention_mask=b_input_mask,\n",
    "                                labels=b_labels)\n",
    "        loss = outputs[0]#.loss\n",
    "        logits = outputs[1]#.logits\n",
    "            \n",
    "        # Accumulate the validation loss.\n",
    "        total_eval_loss += loss.item()\n",
    "\n",
    "        # Move logits and labels to CPU\n",
    "        logits = logits.detach().numpy()\n",
    "        label_ids = b_labels.numpy()\n",
    "\n",
    "        # Calculate the accuracy for this batch of test sentences, and\n",
    "        # accumulate it over all batches. We provide a function in \n",
    "        # helpers.py called flat_accuracy() that takes in predictions and labels\n",
    "        # acc = flat_accuracy(logits, label_ids)       \n",
    "        # total_eval_accuracy += acc\n",
    "        # print(logits,label_ids)\n",
    "        error = np.abs(logits.T-label_ids).sum()\n",
    "    # Report the final accuracy for this validation run.\n",
    "    avg_error = error / num_batches\n",
    "    return avg_error \n",
    "\n"
   ]
  },
  {
   "cell_type": "code",
   "execution_count": 6,
   "metadata": {},
   "outputs": [
    {
     "name": "stdout",
     "output_type": "stream",
     "text": [
      "\n",
      "======== Epoch 1 / 50 ========\n",
      "Training...\n",
      "Total loss: 10.682881295681\n",
      "Validation accuracy: 8.310111045837402\n",
      "\n",
      "======== Epoch 2 / 50 ========\n",
      "Training...\n",
      "Total loss: 7.308704733848572\n",
      "Validation accuracy: 8.786028861999512\n",
      "\n",
      "======== Epoch 3 / 50 ========\n",
      "Training...\n",
      "Total loss: 7.329700231552124\n",
      "Validation accuracy: 8.484431266784668\n",
      "\n",
      "======== Epoch 4 / 50 ========\n",
      "Training...\n",
      "Total loss: 7.0027270913124084\n",
      "Validation accuracy: 8.383172988891602\n",
      "\n",
      "======== Epoch 5 / 50 ========\n",
      "Training...\n",
      "Total loss: 6.830851852893829\n",
      "Validation accuracy: 7.996756553649902\n",
      "\n",
      "======== Epoch 6 / 50 ========\n",
      "Training...\n",
      "Total loss: 6.889522910118103\n",
      "Validation accuracy: 8.716316223144531\n",
      "\n",
      "======== Epoch 7 / 50 ========\n",
      "Training...\n",
      "Total loss: 5.281064689159393\n",
      "Validation accuracy: 6.603281021118164\n",
      "\n",
      "======== Epoch 8 / 50 ========\n",
      "Training...\n",
      "Total loss: 3.338749334216118\n",
      "Validation accuracy: 7.178820610046387\n",
      "\n",
      "======== Epoch 9 / 50 ========\n",
      "Training...\n",
      "Total loss: 2.17450387775898\n",
      "Validation accuracy: 7.6432976722717285\n",
      "\n",
      "======== Epoch 10 / 50 ========\n",
      "Training...\n",
      "Total loss: 1.6521857306361198\n",
      "Validation accuracy: 8.994007110595703\n",
      "\n",
      "======== Epoch 11 / 50 ========\n",
      "Training...\n",
      "Total loss: 1.884574182331562\n",
      "Validation accuracy: 7.53495979309082\n",
      "\n",
      "======== Epoch 12 / 50 ========\n",
      "Training...\n",
      "Total loss: 1.9381312876939774\n",
      "Validation accuracy: 7.810840606689453\n",
      "\n",
      "======== Epoch 13 / 50 ========\n",
      "Training...\n",
      "Total loss: 1.4725541323423386\n",
      "Validation accuracy: 8.800333976745605\n",
      "\n",
      "======== Epoch 14 / 50 ========\n",
      "Training...\n",
      "Total loss: 1.1658024787902832\n",
      "Validation accuracy: 10.720608711242676\n",
      "\n",
      "======== Epoch 15 / 50 ========\n",
      "Training...\n",
      "Total loss: 2.517767585813999\n",
      "Validation accuracy: 10.48108196258545\n",
      "\n",
      "======== Epoch 16 / 50 ========\n",
      "Training...\n",
      "Total loss: 3.7588855624198914\n",
      "Validation accuracy: 7.51968240737915\n",
      "\n",
      "======== Epoch 17 / 50 ========\n",
      "Training...\n",
      "Total loss: 2.0863607972860336\n",
      "Validation accuracy: 7.85775899887085\n",
      "\n",
      "======== Epoch 18 / 50 ========\n",
      "Training...\n",
      "Total loss: 1.2438301406800747\n",
      "Validation accuracy: 8.249007225036621\n",
      "\n",
      "======== Epoch 19 / 50 ========\n",
      "Training...\n",
      "Total loss: 0.8672595582902431\n",
      "Validation accuracy: 8.231256484985352\n",
      "\n",
      "======== Epoch 20 / 50 ========\n",
      "Training...\n",
      "Total loss: 0.6357090808451176\n",
      "Validation accuracy: 7.921359539031982\n",
      "\n",
      "======== Epoch 21 / 50 ========\n",
      "Training...\n",
      "Total loss: 0.7577721457928419\n",
      "Validation accuracy: 7.918855667114258\n",
      "\n",
      "======== Epoch 22 / 50 ========\n",
      "Training...\n",
      "Total loss: 0.7425513714551926\n",
      "Validation accuracy: 8.926626205444336\n",
      "\n",
      "======== Epoch 23 / 50 ========\n",
      "Training...\n",
      "Total loss: 0.6029833219945431\n",
      "Validation accuracy: 8.215149879455566\n",
      "\n",
      "======== Epoch 24 / 50 ========\n",
      "Training...\n",
      "Total loss: 0.46315011009573936\n",
      "Validation accuracy: 7.654046058654785\n",
      "\n",
      "======== Epoch 25 / 50 ========\n",
      "Training...\n",
      "Total loss: 0.3613869044929743\n",
      "Validation accuracy: 7.888872146606445\n",
      "\n",
      "======== Epoch 26 / 50 ========\n",
      "Training...\n",
      "Total loss: 0.2906560879200697\n",
      "Validation accuracy: 8.082419395446777\n",
      "\n",
      "======== Epoch 27 / 50 ========\n",
      "Training...\n",
      "Total loss: 0.2524240203201771\n",
      "Validation accuracy: 7.967792987823486\n",
      "\n",
      "======== Epoch 28 / 50 ========\n",
      "Training...\n",
      "Total loss: 0.24069285113364458\n",
      "Validation accuracy: 7.59409761428833\n",
      "\n",
      "======== Epoch 29 / 50 ========\n",
      "Training...\n",
      "Total loss: 0.21822073590010405\n",
      "Validation accuracy: 7.905818462371826\n",
      "\n",
      "======== Epoch 30 / 50 ========\n",
      "Training...\n",
      "Total loss: 0.21071314252912998\n",
      "Validation accuracy: 7.725431442260742\n",
      "\n",
      "======== Epoch 31 / 50 ========\n",
      "Training...\n",
      "Total loss: 0.21727681253105402\n",
      "Validation accuracy: 7.850860118865967\n",
      "\n",
      "======== Epoch 32 / 50 ========\n",
      "Training...\n",
      "Total loss: 0.20676445588469505\n",
      "Validation accuracy: 7.710061073303223\n",
      "\n",
      "======== Epoch 33 / 50 ========\n",
      "Training...\n",
      "Total loss: 0.2806414747610688\n",
      "Validation accuracy: 8.076168060302734\n",
      "\n",
      "======== Epoch 34 / 50 ========\n",
      "Training...\n",
      "Total loss: 0.27751885168254375\n",
      "Validation accuracy: 8.910585403442383\n",
      "\n",
      "======== Epoch 35 / 50 ========\n",
      "Training...\n",
      "Total loss: 0.4501546807587147\n",
      "Validation accuracy: 8.107853889465332\n",
      "\n",
      "======== Epoch 36 / 50 ========\n",
      "Training...\n",
      "Total loss: 0.5728790387511253\n",
      "Validation accuracy: 7.774040699005127\n",
      "\n",
      "======== Epoch 37 / 50 ========\n",
      "Training...\n",
      "Total loss: 0.4779372997581959\n",
      "Validation accuracy: 8.02585506439209\n",
      "\n",
      "======== Epoch 38 / 50 ========\n",
      "Training...\n",
      "Total loss: 0.3428658824414015\n",
      "Validation accuracy: 8.097335815429688\n",
      "\n",
      "======== Epoch 39 / 50 ========\n",
      "Training...\n",
      "Total loss: 0.25850600469857454\n",
      "Validation accuracy: 8.381141662597656\n",
      "\n",
      "======== Epoch 40 / 50 ========\n",
      "Training...\n",
      "Total loss: 0.2013632720336318\n",
      "Validation accuracy: 8.089268684387207\n",
      "\n",
      "======== Epoch 41 / 50 ========\n",
      "Training...\n",
      "Total loss: 0.1886229207739234\n",
      "Validation accuracy: 8.000903129577637\n",
      "\n",
      "======== Epoch 42 / 50 ========\n",
      "Training...\n",
      "Total loss: 0.16255470365285873\n",
      "Validation accuracy: 7.881950378417969\n",
      "\n",
      "======== Epoch 43 / 50 ========\n",
      "Training...\n",
      "Total loss: 0.14561694860458374\n",
      "Validation accuracy: 7.865606784820557\n",
      "\n",
      "======== Epoch 44 / 50 ========\n",
      "Training...\n",
      "Total loss: 0.12773710675537586\n",
      "Validation accuracy: 7.9204583168029785\n",
      "\n",
      "======== Epoch 45 / 50 ========\n",
      "Training...\n",
      "Total loss: 0.10868178820237517\n",
      "Validation accuracy: 8.08121109008789\n",
      "\n",
      "======== Epoch 46 / 50 ========\n",
      "Training...\n",
      "Total loss: 0.10783904837444425\n",
      "Validation accuracy: 7.90435791015625\n",
      "\n",
      "======== Epoch 47 / 50 ========\n",
      "Training...\n",
      "Total loss: 0.09139806823804975\n",
      "Validation accuracy: 7.861111640930176\n",
      "\n",
      "======== Epoch 48 / 50 ========\n",
      "Training...\n",
      "Total loss: 0.10097492299973965\n",
      "Validation accuracy: 8.136808395385742\n",
      "\n",
      "======== Epoch 49 / 50 ========\n",
      "Training...\n",
      "Total loss: 0.1310164318419993\n",
      "Validation accuracy: 8.42668628692627\n",
      "\n",
      "======== Epoch 50 / 50 ========\n",
      "Training...\n",
      "Total loss: 0.14493992924690247\n",
      "Validation accuracy: 9.125991821289062\n",
      "Training complete!\n"
     ]
    }
   ],
   "source": [
    "import random\n",
    "\n",
    "# training loop\n",
    "log_train_loss = np.zeros(epochs)\n",
    "log_train_error = np.zeros(epochs)\n",
    "# For each epoch...\n",
    "for epoch_i in range(0, epochs):\n",
    "    # Perform one full pass over the training set.\n",
    "\n",
    "    print(\"\")\n",
    "    print('======== Epoch {:} / {:} ========'.format(epoch_i + 1, epochs))\n",
    "    print('Training...')\n",
    "\n",
    "    # Reset the total loss for this epoch.\n",
    "    total_train_loss = 0\n",
    "\n",
    "    # Put the model into training mode.\n",
    "    model.train()\n",
    "\n",
    "    # For each batch of training data...\n",
    "    # num_batches = int(len(train_set)/batch_size) + 1\n",
    "    num_batches = int(len(train_set)/batch_size)\n",
    "\n",
    "    for i in range(num_batches):\n",
    "      end_index = min(batch_size * (i+1), len(train_set))\n",
    "\n",
    "      batch = train_set[i*batch_size:end_index]\n",
    "      input_id_tensors = torch.stack([data[0] for data in batch])\n",
    "      input_mask_tensors = torch.stack([data[1] for data in batch])\n",
    "      label_tensors = torch.stack([data[2] for data in batch])\n",
    "\n",
    "      # Move tensors to the GPU\n",
    "      b_input_ids = input_id_tensors.to(device)\n",
    "      b_input_mask = input_mask_tensors.to(device)\n",
    "      b_labels = label_tensors.to(device)\n",
    "\n",
    "      # Clear the previously calculated gradient\n",
    "      model.zero_grad()        \n",
    "\n",
    "      # Perform a forward pass (evaluate the model on this training batch).\n",
    "      outputs = model(b_input_ids, \n",
    "                            token_type_ids=None, \n",
    "                            attention_mask=b_input_mask, \n",
    "                            labels=b_labels)\n",
    "      # print(outputs)\n",
    "      loss = outputs[0]#.loss\n",
    "      logits = outputs[1]#.logits\n",
    "\n",
    "      total_train_loss += loss.item()\n",
    "\n",
    "      # Perform a backward pass to calculate the gradients.\n",
    "      loss.backward()\n",
    "\n",
    "      # Update parameters and take a step using the computed gradient.\n",
    "      optimizer.step()\n",
    "        \n",
    "    # ========================================\n",
    "    #               Validation\n",
    "    # ========================================\n",
    "    # After the completion of each training epoch, measure our performance on\n",
    "    # our validation set. Implement this function in the cell above.\n",
    "    print(f\"Total loss: {total_train_loss}\")\n",
    "    log_train_loss[epoch_i] = total_train_loss\n",
    "    val_error = get_validation_performance(val_set)\n",
    "    log_train_error[epoch_i] = val_error\n",
    "    print(f\"Validation accuracy: {val_error}\")\n",
    "    \n",
    "# print(\"\")\n",
    "print(\"Training complete!\")\n"
   ]
  },
  {
   "cell_type": "code",
   "execution_count": 7,
   "metadata": {},
   "outputs": [
    {
     "data": {
      "image/png": "[encoded data removed]",
      "text/plain": [
       "<Figure size 432x288 with 1 Axes>"
      ]
     },
     "metadata": {
      "needs_background": "light"
     },
     "output_type": "display_data"
    }
   ],
   "source": [
    "import matplotlib.pyplot as plt\n",
    "import numpy as np\n",
    "x = np.arange(1,epochs+1)\n",
    "# print(log_train_loss)\n",
    "plt.plot(x,log_train_loss,linestyle='--',color='green',marker='<')\n",
    "plt.show()"
   ]
  },
  {
   "cell_type": "code",
   "execution_count": 8,
   "metadata": {},
   "outputs": [
    {
     "data": {
      "image/png": "[encoded data removed]",
      "text/plain": [
       "<Figure size 432x288 with 1 Axes>"
      ]
     },
     "metadata": {
      "needs_background": "light"
     },
     "output_type": "display_data"
    }
   ],
   "source": [
    "import matplotlib.pyplot as plt\n",
    "import numpy as np\n",
    "x = np.arange(1,epochs+1)\n",
    "# print(log_train_loss)\n",
    "plt.plot(x,log_train_error,linestyle='--',color='green',marker='<')\n",
    "plt.show()"
   ]
  },
  {
   "cell_type": "code",
   "execution_count": 9,
   "metadata": {},
   "outputs": [
    {
     "name": "stdout",
     "output_type": "stream",
     "text": [
      "25.417408\n",
      "45.786476\n",
      "38.636177\n",
      "36.503967\n"
     ]
    },
    {
     "data": {
      "text/plain": [
       "9.125991821289062"
      ]
     },
     "execution_count": 9,
     "metadata": {},
     "output_type": "execute_result"
    }
   ],
   "source": [
    "import numpy as np\n",
    "# function to get validation accuracy\n",
    "def get_test_performance(val_set):\n",
    "    # Put the model in evaluation mode\n",
    "    model.eval()\n",
    "\n",
    "    # Tracking variables \n",
    "    total_eval_accuracy = 0\n",
    "    total_eval_loss = 0\n",
    "\n",
    "    num_batches = int(len(val_set)/batch_size) + 1\n",
    "\n",
    "    for i in range(num_batches):\n",
    "      end_index = min(batch_size * (i+1), len(val_set))\n",
    "\n",
    "      batch = val_set[i*batch_size:end_index]\n",
    "\n",
    "      input_id_tensors = torch.stack([data[0] for data in batch])\n",
    "      input_mask_tensors = torch.stack([data[1] for data in batch])\n",
    "      label_tensors = torch.stack([data[2] for data in batch])\n",
    "      \n",
    "      # Move tensors to the GPU\n",
    "      b_input_ids = input_id_tensors.to(device)\n",
    "      b_input_mask = input_mask_tensors.to(device)\n",
    "      b_labels = label_tensors.to(device)\n",
    "        \n",
    "      # Tell pytorch not to bother with constructing the compute graph during\n",
    "      # the forward pass, since this is only needed for backprop (training).\n",
    "      with torch.no_grad():        \n",
    "\n",
    "        # Forward pass, calculate logit predictions.\n",
    "        outputs = model(b_input_ids, \n",
    "                                token_type_ids=None, \n",
    "                                attention_mask=b_input_mask,\n",
    "                                labels=b_labels)\n",
    "        loss = outputs[0]#.loss\n",
    "        logits = outputs[1]#.logits\n",
    "            \n",
    "        # Accumulate the validation loss.\n",
    "        total_eval_loss += loss.item()\n",
    "\n",
    "        # Move logits and labels to CPU\n",
    "        logits = logits.detach().numpy()\n",
    "        label_ids = b_labels.numpy()\n",
    "\n",
    "        # Calculate the accuracy for this batch of test sentences, and\n",
    "        # accumulate it over all batches. We provide a function in \n",
    "        # helpers.py called flat_accuracy() that takes in predictions and labels\n",
    "        # acc = flat_accuracy(logits, label_ids)       \n",
    "        # total_eval_accuracy += acc\n",
    "        # print(logits.T)\n",
    "        # print(label_ids)\n",
    "        print(np.abs(logits.T-label_ids).sum())\n",
    "        error = np.abs(logits.T-label_ids).sum()\n",
    "    # Report the final accuracy for this validation run.\n",
    "    avg_error = error / num_batches\n",
    "    return avg_error \n",
    "\n",
    "get_test_performance(val_set)"
   ]
  },
  {
   "cell_type": "code",
   "execution_count": null,
   "metadata": {},
   "outputs": [],
   "source": []
  },
  {
   "cell_type": "code",
   "execution_count": 18,
   "metadata": {},
   "outputs": [
    {
     "name": "stdout",
     "output_type": "stream",
     "text": [
      "[('neural architecture transformer', 0.5527), ('length disrupting', 0.1076), ('benchmarks covering summarization', 0.2611), ('language showed newly', 0.2474), ('explicitly allows spatial', 0.2433), ('replaces dot product', 0.2065), ('answering', 0.2506), ('finetune variety downstream', 0.0994), ('sampling algorithm hgsampling', -0.0439), ('nlp tasks layerdrop', 0.323)]\n"
     ]
    }
   ],
   "source": [
    "from keybert import KeyBERT\n",
    "\n",
    "# doc = \"\"\"\n",
    "#          Supervised learning is the machine learning task of learning a function that\n",
    "#          maps an input to an output based on example input-output pairs. It infers a\n",
    "#          function from labeled training data consisting of a set of training examples.\n",
    "#          In supervised learning, each example is a pair consisting of an input object\n",
    "#          (typically a vector) and a desired output value (also called the supervisory signal). \n",
    "#          A supervised learning algorithm analyzes the training data and produces an inferred function, \n",
    "#          which can be used for mapping new examples. An optimal scenario will allow for the \n",
    "#          algorithm to correctly determine the class labels for unseen instances. This requires \n",
    "#          the learning algorithm to generalize from the training data to unseen situations in a \n",
    "#          'reasonable' way (see inductive bias).\n",
    "#       \"\"\"\n",
    "kw_model = KeyBERT()\n",
    "keywords = kw_model.extract_keywords(tldr_cat, keyphrase_ngram_range=(1,3), stop_words='english', top_n = 10, use_maxsum=True, nr_candidates=40, use_mmr=True, diversity=0.7)\n",
    "print(keywords)"
   ]
  },
  {
   "cell_type": "markdown",
   "metadata": {},
   "source": [
    "# Development Scratch"
   ]
  },
  {
   "cell_type": "code",
   "execution_count": 21,
   "metadata": {},
   "outputs": [],
   "source": [
    "num_item = 30\n",
    "offset = 0\n",
    "query = 'hand'\n",
    "query = '+'.join(query.split())\n",
    "url = f'https://api.semanticscholar.org/graph/v1/paper/search?fos[0]=computer-science&query={query}&offset={offset}&limit={num_item}'\n",
    "paper_list = str(request.urlopen(url).read(), 'utf-8')\n",
    "paper_list = json.loads(paper_list)\n",
    "# print(paper_list)"
   ]
  },
  {
   "cell_type": "code",
   "execution_count": 42,
   "metadata": {},
   "outputs": [],
   "source": [
    "for paper in paper_list['data']:\n",
    "    paper_id = paper['paperId']\n",
    "    paper_url = f'https://api.semanticscholar.org/graph/v1/paper/{paper_id}?fields=citations.authors,tldr,citationCount,fieldsOfStudy'\n",
    "    paper_info = str(request.urlopen(paper_url).read(), 'utf-8')\n",
    "    paper_info = json.loads(paper_info)\n",
    "    print(paper_info['citationCount'], paper_info['fieldsOfStudy'])"
   ]
  },
  {
   "cell_type": "code",
   "execution_count": null,
   "metadata": {},
   "outputs": [],
   "source": []
  }
 ],
 "metadata": {
  "interpreter": {
   "hash": "0ae9f0abca11b5964ed3b2e1eeca7b20601143dc7930a532e9cd7a2d36507b9d"
  },
  "kernelspec": {
   "display_name": "Python 3.6.13 64-bit ('carla': conda)",
   "language": "python",
   "name": "python3"
  },
  "language_info": {
   "codemirror_mode": {
    "name": "ipython",
    "version": 3
   },
   "file_extension": ".py",
   "mimetype": "text/x-python",
   "name": "python",
   "nbconvert_exporter": "python",
   "pygments_lexer": "ipython3",
   "version": "3.6.10"
  },
  "orig_nbformat": 4
 },
 "nbformat": 4,
 "nbformat_minor": 2
}
